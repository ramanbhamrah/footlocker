{
 "cells": [
  {
   "cell_type": "code",
   "execution_count": 9,
   "metadata": {},
   "outputs": [],
   "source": [
    "import pickle\n",
    "import os\n",
    "import pandas as pd"
   ]
  },
  {
   "cell_type": "code",
   "execution_count": 5,
   "metadata": {},
   "outputs": [],
   "source": [
    "os.chdir('/home/tatras/Documents/internship 2/FootLocker/data') #Changing working directory !!!"
   ]
  },
  {
   "cell_type": "code",
   "execution_count": 13,
   "metadata": {},
   "outputs": [],
   "source": [
    "with open('weekly_sales100.pkl', 'rb') as f: # Loading data using pickle file !!!\n",
    "    data = pickle.load(f)"
   ]
  },
  {
   "cell_type": "code",
   "execution_count": 14,
   "metadata": {},
   "outputs": [
    {
     "data": {
      "text/html": [
       "<div>\n",
       "<style scoped>\n",
       "    .dataframe tbody tr th:only-of-type {\n",
       "        vertical-align: middle;\n",
       "    }\n",
       "\n",
       "    .dataframe tbody tr th {\n",
       "        vertical-align: top;\n",
       "    }\n",
       "\n",
       "    .dataframe thead th {\n",
       "        text-align: right;\n",
       "    }\n",
       "</style>\n",
       "<table border=\"1\" class=\"dataframe\">\n",
       "  <thead>\n",
       "    <tr style=\"text-align: right;\">\n",
       "      <th></th>\n",
       "      <th>sku</th>\n",
       "      <th>store_number</th>\n",
       "      <th>week1</th>\n",
       "      <th>week2</th>\n",
       "      <th>week3</th>\n",
       "      <th>week4</th>\n",
       "      <th>week5</th>\n",
       "    </tr>\n",
       "  </thead>\n",
       "  <tbody>\n",
       "    <tr>\n",
       "      <th>0</th>\n",
       "      <td>03420100304</td>\n",
       "      <td>0306913</td>\n",
       "      <td>1.0</td>\n",
       "      <td>NaN</td>\n",
       "      <td>NaN</td>\n",
       "      <td>NaN</td>\n",
       "      <td>NaN</td>\n",
       "    </tr>\n",
       "    <tr>\n",
       "      <th>1</th>\n",
       "      <td>03420100304</td>\n",
       "      <td>0306914</td>\n",
       "      <td>1.0</td>\n",
       "      <td>NaN</td>\n",
       "      <td>NaN</td>\n",
       "      <td>1.0</td>\n",
       "      <td>NaN</td>\n",
       "    </tr>\n",
       "    <tr>\n",
       "      <th>2</th>\n",
       "      <td>03420100304</td>\n",
       "      <td>0306959</td>\n",
       "      <td>1.0</td>\n",
       "      <td>5.0</td>\n",
       "      <td>3.0</td>\n",
       "      <td>2.0</td>\n",
       "      <td>NaN</td>\n",
       "    </tr>\n",
       "    <tr>\n",
       "      <th>3</th>\n",
       "      <td>03420100304</td>\n",
       "      <td>0306960</td>\n",
       "      <td>1.0</td>\n",
       "      <td>NaN</td>\n",
       "      <td>NaN</td>\n",
       "      <td>NaN</td>\n",
       "      <td>NaN</td>\n",
       "    </tr>\n",
       "    <tr>\n",
       "      <th>4</th>\n",
       "      <td>03420100304</td>\n",
       "      <td>0306972</td>\n",
       "      <td>1.0</td>\n",
       "      <td>1.0</td>\n",
       "      <td>1.0</td>\n",
       "      <td>NaN</td>\n",
       "      <td>NaN</td>\n",
       "    </tr>\n",
       "  </tbody>\n",
       "</table>\n",
       "</div>"
      ],
      "text/plain": [
       "           sku store_number  week1  week2  week3  week4  week5\n",
       "0  03420100304      0306913    1.0    NaN    NaN    NaN    NaN\n",
       "1  03420100304      0306914    1.0    NaN    NaN    1.0    NaN\n",
       "2  03420100304      0306959    1.0    5.0    3.0    2.0    NaN\n",
       "3  03420100304      0306960    1.0    NaN    NaN    NaN    NaN\n",
       "4  03420100304      0306972    1.0    1.0    1.0    NaN    NaN"
      ]
     },
     "execution_count": 14,
     "metadata": {},
     "output_type": "execute_result"
    }
   ],
   "source": [
    "data.head()"
   ]
  },
  {
   "cell_type": "code",
   "execution_count": 16,
   "metadata": {},
   "outputs": [],
   "source": [
    "data.fillna(0, inplace = True) #Fill NaN values with 0"
   ]
  },
  {
   "cell_type": "code",
   "execution_count": 17,
   "metadata": {},
   "outputs": [
    {
     "data": {
      "text/html": [
       "<div>\n",
       "<style scoped>\n",
       "    .dataframe tbody tr th:only-of-type {\n",
       "        vertical-align: middle;\n",
       "    }\n",
       "\n",
       "    .dataframe tbody tr th {\n",
       "        vertical-align: top;\n",
       "    }\n",
       "\n",
       "    .dataframe thead th {\n",
       "        text-align: right;\n",
       "    }\n",
       "</style>\n",
       "<table border=\"1\" class=\"dataframe\">\n",
       "  <thead>\n",
       "    <tr style=\"text-align: right;\">\n",
       "      <th></th>\n",
       "      <th>sku</th>\n",
       "      <th>store_number</th>\n",
       "      <th>week1</th>\n",
       "      <th>week2</th>\n",
       "      <th>week3</th>\n",
       "      <th>week4</th>\n",
       "      <th>week5</th>\n",
       "    </tr>\n",
       "  </thead>\n",
       "  <tbody>\n",
       "    <tr>\n",
       "      <th>0</th>\n",
       "      <td>03420100304</td>\n",
       "      <td>0306913</td>\n",
       "      <td>1.0</td>\n",
       "      <td>0.0</td>\n",
       "      <td>0.0</td>\n",
       "      <td>0.0</td>\n",
       "      <td>0.0</td>\n",
       "    </tr>\n",
       "    <tr>\n",
       "      <th>1</th>\n",
       "      <td>03420100304</td>\n",
       "      <td>0306914</td>\n",
       "      <td>1.0</td>\n",
       "      <td>0.0</td>\n",
       "      <td>0.0</td>\n",
       "      <td>1.0</td>\n",
       "      <td>0.0</td>\n",
       "    </tr>\n",
       "    <tr>\n",
       "      <th>2</th>\n",
       "      <td>03420100304</td>\n",
       "      <td>0306959</td>\n",
       "      <td>1.0</td>\n",
       "      <td>5.0</td>\n",
       "      <td>3.0</td>\n",
       "      <td>2.0</td>\n",
       "      <td>0.0</td>\n",
       "    </tr>\n",
       "    <tr>\n",
       "      <th>3</th>\n",
       "      <td>03420100304</td>\n",
       "      <td>0306960</td>\n",
       "      <td>1.0</td>\n",
       "      <td>0.0</td>\n",
       "      <td>0.0</td>\n",
       "      <td>0.0</td>\n",
       "      <td>0.0</td>\n",
       "    </tr>\n",
       "    <tr>\n",
       "      <th>4</th>\n",
       "      <td>03420100304</td>\n",
       "      <td>0306972</td>\n",
       "      <td>1.0</td>\n",
       "      <td>1.0</td>\n",
       "      <td>1.0</td>\n",
       "      <td>0.0</td>\n",
       "      <td>0.0</td>\n",
       "    </tr>\n",
       "  </tbody>\n",
       "</table>\n",
       "</div>"
      ],
      "text/plain": [
       "           sku store_number  week1  week2  week3  week4  week5\n",
       "0  03420100304      0306913    1.0    0.0    0.0    0.0    0.0\n",
       "1  03420100304      0306914    1.0    0.0    0.0    1.0    0.0\n",
       "2  03420100304      0306959    1.0    5.0    3.0    2.0    0.0\n",
       "3  03420100304      0306960    1.0    0.0    0.0    0.0    0.0\n",
       "4  03420100304      0306972    1.0    1.0    1.0    0.0    0.0"
      ]
     },
     "execution_count": 17,
     "metadata": {},
     "output_type": "execute_result"
    }
   ],
   "source": [
    "data.head()"
   ]
  },
  {
   "cell_type": "code",
   "execution_count": 225,
   "metadata": {},
   "outputs": [],
   "source": [
    "df_sku = pd.DataFrame()"
   ]
  },
  {
   "cell_type": "code",
   "execution_count": 226,
   "metadata": {},
   "outputs": [],
   "source": [
    "df_sku['week1_total_sales'] = data.groupby('sku')['week1'].sum()\n",
    "df_sku['week2_total_sales'] = data.groupby('sku')['week2'].sum()\n",
    "df_sku['week3_total_sales'] = data.groupby('sku')['week3'].sum()\n",
    "df_sku['week4_total_sales'] = data.groupby('sku')['week4'].sum()\n",
    "df_sku['week5_total_sales'] = data.groupby('sku')['week5'].sum()\n",
    "df_sku.reset_index(inplace = True)"
   ]
  },
  {
   "cell_type": "code",
   "execution_count": 227,
   "metadata": {},
   "outputs": [],
   "source": [
    "df_sku['sku_overall_sales'] = df_sku.iloc[:, 1:6].sum(axis = 1)"
   ]
  },
  {
   "cell_type": "code",
   "execution_count": 228,
   "metadata": {},
   "outputs": [
    {
     "data": {
      "text/html": [
       "<div>\n",
       "<style scoped>\n",
       "    .dataframe tbody tr th:only-of-type {\n",
       "        vertical-align: middle;\n",
       "    }\n",
       "\n",
       "    .dataframe tbody tr th {\n",
       "        vertical-align: top;\n",
       "    }\n",
       "\n",
       "    .dataframe thead th {\n",
       "        text-align: right;\n",
       "    }\n",
       "</style>\n",
       "<table border=\"1\" class=\"dataframe\">\n",
       "  <thead>\n",
       "    <tr style=\"text-align: right;\">\n",
       "      <th></th>\n",
       "      <th>sku</th>\n",
       "      <th>week1_total_sales</th>\n",
       "      <th>week2_total_sales</th>\n",
       "      <th>week3_total_sales</th>\n",
       "      <th>week4_total_sales</th>\n",
       "      <th>week5_total_sales</th>\n",
       "      <th>sku_overall_sales</th>\n",
       "    </tr>\n",
       "  </thead>\n",
       "  <tbody>\n",
       "    <tr>\n",
       "      <th>0</th>\n",
       "      <td>03420100304</td>\n",
       "      <td>241.0</td>\n",
       "      <td>74.0</td>\n",
       "      <td>57.0</td>\n",
       "      <td>59.0</td>\n",
       "      <td>66.0</td>\n",
       "      <td>497.0</td>\n",
       "    </tr>\n",
       "    <tr>\n",
       "      <th>1</th>\n",
       "      <td>03420100404</td>\n",
       "      <td>76.0</td>\n",
       "      <td>23.0</td>\n",
       "      <td>16.0</td>\n",
       "      <td>52.0</td>\n",
       "      <td>12.0</td>\n",
       "      <td>179.0</td>\n",
       "    </tr>\n",
       "    <tr>\n",
       "      <th>2</th>\n",
       "      <td>03420100904</td>\n",
       "      <td>26.0</td>\n",
       "      <td>12.0</td>\n",
       "      <td>10.0</td>\n",
       "      <td>96.0</td>\n",
       "      <td>13.0</td>\n",
       "      <td>157.0</td>\n",
       "    </tr>\n",
       "    <tr>\n",
       "      <th>3</th>\n",
       "      <td>03420102204</td>\n",
       "      <td>191.0</td>\n",
       "      <td>108.0</td>\n",
       "      <td>90.0</td>\n",
       "      <td>163.0</td>\n",
       "      <td>296.0</td>\n",
       "      <td>848.0</td>\n",
       "    </tr>\n",
       "    <tr>\n",
       "      <th>4</th>\n",
       "      <td>03420102304</td>\n",
       "      <td>183.0</td>\n",
       "      <td>75.0</td>\n",
       "      <td>104.0</td>\n",
       "      <td>222.0</td>\n",
       "      <td>255.0</td>\n",
       "      <td>839.0</td>\n",
       "    </tr>\n",
       "  </tbody>\n",
       "</table>\n",
       "</div>"
      ],
      "text/plain": [
       "           sku  week1_total_sales  week2_total_sales  week3_total_sales  \\\n",
       "0  03420100304              241.0               74.0               57.0   \n",
       "1  03420100404               76.0               23.0               16.0   \n",
       "2  03420100904               26.0               12.0               10.0   \n",
       "3  03420102204              191.0              108.0               90.0   \n",
       "4  03420102304              183.0               75.0              104.0   \n",
       "\n",
       "   week4_total_sales  week5_total_sales  sku_overall_sales  \n",
       "0               59.0               66.0              497.0  \n",
       "1               52.0               12.0              179.0  \n",
       "2               96.0               13.0              157.0  \n",
       "3              163.0              296.0              848.0  \n",
       "4              222.0              255.0              839.0  "
      ]
     },
     "execution_count": 228,
     "metadata": {},
     "output_type": "execute_result"
    }
   ],
   "source": [
    "df_sku.head()"
   ]
  },
  {
   "cell_type": "code",
   "execution_count": 229,
   "metadata": {},
   "outputs": [],
   "source": [
    "from matplotlib import pyplot as plt\n",
    "import seaborn as sns\n",
    "%matplotlib inline"
   ]
  },
  {
   "cell_type": "code",
   "execution_count": 230,
   "metadata": {},
   "outputs": [
    {
     "data": {
      "text/plain": [
       "count     6031.000000\n",
       "mean       431.765213\n",
       "std        919.961517\n",
       "min          2.000000\n",
       "25%         94.000000\n",
       "50%        215.000000\n",
       "75%        467.500000\n",
       "max      25930.000000\n",
       "Name: week1_total_sales, dtype: float64"
      ]
     },
     "execution_count": 230,
     "metadata": {},
     "output_type": "execute_result"
    }
   ],
   "source": [
    "df_sku.week1_total_sales.describe()"
   ]
  },
  {
   "cell_type": "code",
   "execution_count": 240,
   "metadata": {},
   "outputs": [],
   "source": [
    "data_dict_sku={}\n",
    "outliers_sku = {'week1_total_sales':'week1_out', 'week2_total_sales':'week2_out', 'week3_total_sales':'week3_out', 'week4_total_sales':'week4_out', 'week5_total_sales':'week5_out', 'sku_overall_sales':'overall_out'}"
   ]
  },
  {
   "cell_type": "code",
   "execution_count": 259,
   "metadata": {
    "scrolled": true
   },
   "outputs": [],
   "source": [
    "for i, j in outliers_sku.items():    \n",
    "    q1 = df_sku[i].quantile([0.25, 0.75]).iloc[0]\n",
    "    q3 = df_sku[i].quantile([0.25, 0.75]).iloc[1]\n",
    "    iqr = q3 - q1\n",
    "    upper_lim = q3 + 1.5*iqr\n",
    "    lower_lim = q1 - 1.5*iqr\n",
    "    up_outliers = df_sku.sku[df_sku.week1_total_sales > upper_lim].values.tolist()\n",
    "    low_outliers = df_sku.sku[df_sku.week1_total_sales < lower_lim].values.tolist()\n",
    "    total_outliers = up_outliers + low_outliers\n",
    "    data_dict_sku[i]=(up_outliers,low_outliers)    "
   ]
  },
  {
   "cell_type": "code",
   "execution_count": 260,
   "metadata": {},
   "outputs": [
    {
     "data": {
      "text/plain": [
       "dict_keys(['week1_total_sales', 'week2_total_sales', 'week3_total_sales', 'week4_total_sales', 'week5_total_sales', 'sku_overall_sales'])"
      ]
     },
     "execution_count": 260,
     "metadata": {},
     "output_type": "execute_result"
    }
   ],
   "source": [
    "data_dict_sku.keys()"
   ]
  },
  {
   "cell_type": "code",
   "execution_count": 261,
   "metadata": {},
   "outputs": [
    {
     "data": {
      "text/plain": [
       "(['03420921904',\n",
       "  '03420951904',\n",
       "  '03420952104',\n",
       "  '03421825604',\n",
       "  '03421846504',\n",
       "  '03421863604',\n",
       "  '03421863704',\n",
       "  '03421924604',\n",
       "  '03626517404',\n",
       "  '03626523004',\n",
       "  '03626688704',\n",
       "  '03626699904',\n",
       "  '03626719504',\n",
       "  '03626722304',\n",
       "  '03626724304',\n",
       "  '03626738804',\n",
       "  '03626788404',\n",
       "  '03626968404',\n",
       "  '03626996104',\n",
       "  '03626996504',\n",
       "  '03626998104',\n",
       "  '03626998604',\n",
       "  '03627220604',\n",
       "  '16626571304',\n",
       "  '16626894404',\n",
       "  '16626926004',\n",
       "  '16626956704',\n",
       "  '16626957104',\n",
       "  '16626958304',\n",
       "  '16626959904',\n",
       "  '16627036204',\n",
       "  '16627037004',\n",
       "  '16628295904',\n",
       "  '16628296604',\n",
       "  '18420003704',\n",
       "  '18420125904',\n",
       "  '18421053704',\n",
       "  '18421441304',\n",
       "  '18421691504',\n",
       "  '18421691604',\n",
       "  '18622226404',\n",
       "  '18622900504',\n",
       "  '29420951904',\n",
       "  '29420952104',\n",
       "  '29421846504',\n",
       "  '29421924604',\n",
       "  '29626996504',\n",
       "  '29627220604'],\n",
       " [])"
      ]
     },
     "execution_count": 261,
     "metadata": {},
     "output_type": "execute_result"
    }
   ],
   "source": [
    "data_dict_sku[\"sku_overall_sales\"]"
   ]
  },
  {
   "cell_type": "code",
   "execution_count": 235,
   "metadata": {},
   "outputs": [],
   "source": [
    "df_store = pd.DataFrame()"
   ]
  },
  {
   "cell_type": "code",
   "execution_count": 236,
   "metadata": {},
   "outputs": [],
   "source": [
    "df_store['week1_total_sales'] = data.groupby('store_number')['week1'].sum()\n",
    "df_store['week2_total_sales'] = data.groupby('store_number')['week2'].sum()\n",
    "df_store['week3_total_sales'] = data.groupby('store_number')['week3'].sum()\n",
    "df_store['week4_total_sales'] = data.groupby('store_number')['week4'].sum()\n",
    "df_store['week5_total_sales'] = data.groupby('store_number')['week5'].sum()\n",
    "df_store.reset_index(inplace = True)"
   ]
  },
  {
   "cell_type": "code",
   "execution_count": 237,
   "metadata": {},
   "outputs": [],
   "source": [
    "df_store['store_overall_sales'] = df_store.iloc[:, 1:6].sum(axis = 1)"
   ]
  },
  {
   "cell_type": "code",
   "execution_count": 239,
   "metadata": {},
   "outputs": [
    {
     "data": {
      "text/html": [
       "<div>\n",
       "<style scoped>\n",
       "    .dataframe tbody tr th:only-of-type {\n",
       "        vertical-align: middle;\n",
       "    }\n",
       "\n",
       "    .dataframe tbody tr th {\n",
       "        vertical-align: top;\n",
       "    }\n",
       "\n",
       "    .dataframe thead th {\n",
       "        text-align: right;\n",
       "    }\n",
       "</style>\n",
       "<table border=\"1\" class=\"dataframe\">\n",
       "  <thead>\n",
       "    <tr style=\"text-align: right;\">\n",
       "      <th></th>\n",
       "      <th>store_number</th>\n",
       "      <th>week1_total_sales</th>\n",
       "      <th>week2_total_sales</th>\n",
       "      <th>week3_total_sales</th>\n",
       "      <th>week4_total_sales</th>\n",
       "      <th>week5_total_sales</th>\n",
       "      <th>store_overall_sales</th>\n",
       "    </tr>\n",
       "  </thead>\n",
       "  <tbody>\n",
       "    <tr>\n",
       "      <th>0</th>\n",
       "      <td>0306001</td>\n",
       "      <td>32.0</td>\n",
       "      <td>5.0</td>\n",
       "      <td>46.0</td>\n",
       "      <td>2.0</td>\n",
       "      <td>0.0</td>\n",
       "      <td>85.0</td>\n",
       "    </tr>\n",
       "    <tr>\n",
       "      <th>1</th>\n",
       "      <td>0306005</td>\n",
       "      <td>17.0</td>\n",
       "      <td>1.0</td>\n",
       "      <td>2.0</td>\n",
       "      <td>43.0</td>\n",
       "      <td>4.0</td>\n",
       "      <td>67.0</td>\n",
       "    </tr>\n",
       "    <tr>\n",
       "      <th>2</th>\n",
       "      <td>0306018</td>\n",
       "      <td>10.0</td>\n",
       "      <td>0.0</td>\n",
       "      <td>1.0</td>\n",
       "      <td>2.0</td>\n",
       "      <td>41.0</td>\n",
       "      <td>54.0</td>\n",
       "    </tr>\n",
       "    <tr>\n",
       "      <th>3</th>\n",
       "      <td>0306034</td>\n",
       "      <td>10.0</td>\n",
       "      <td>0.0</td>\n",
       "      <td>0.0</td>\n",
       "      <td>42.0</td>\n",
       "      <td>42.0</td>\n",
       "      <td>94.0</td>\n",
       "    </tr>\n",
       "    <tr>\n",
       "      <th>4</th>\n",
       "      <td>0306046</td>\n",
       "      <td>21.0</td>\n",
       "      <td>0.0</td>\n",
       "      <td>44.0</td>\n",
       "      <td>44.0</td>\n",
       "      <td>2.0</td>\n",
       "      <td>111.0</td>\n",
       "    </tr>\n",
       "  </tbody>\n",
       "</table>\n",
       "</div>"
      ],
      "text/plain": [
       "  store_number  week1_total_sales  week2_total_sales  week3_total_sales  \\\n",
       "0      0306001               32.0                5.0               46.0   \n",
       "1      0306005               17.0                1.0                2.0   \n",
       "2      0306018               10.0                0.0                1.0   \n",
       "3      0306034               10.0                0.0                0.0   \n",
       "4      0306046               21.0                0.0               44.0   \n",
       "\n",
       "   week4_total_sales  week5_total_sales  store_overall_sales  \n",
       "0                2.0                0.0                 85.0  \n",
       "1               43.0                4.0                 67.0  \n",
       "2                2.0               41.0                 54.0  \n",
       "3               42.0               42.0                 94.0  \n",
       "4               44.0                2.0                111.0  "
      ]
     },
     "execution_count": 239,
     "metadata": {},
     "output_type": "execute_result"
    }
   ],
   "source": [
    "df_store.head()"
   ]
  },
  {
   "cell_type": "code",
   "execution_count": 264,
   "metadata": {},
   "outputs": [],
   "source": [
    "data_dict_store={}\n",
    "outliers_store = {'week1_total_sales':'week1_out', 'week2_total_sales':'week2_out', 'week3_total_sales':'week3_out', 'week4_total_sales':'week4_out', 'week5_total_sales':'week5_out', 'store_overall_sales':'overall_out'}"
   ]
  },
  {
   "cell_type": "code",
   "execution_count": 265,
   "metadata": {},
   "outputs": [],
   "source": [
    "for i, j in outliers_store.items():    \n",
    "    q1 = df_store[i].quantile([0.25, 0.75]).iloc[0]\n",
    "    q3 = df_store[i].quantile([0.25, 0.75]).iloc[1]\n",
    "    iqr = q3 - q1\n",
    "    upper_lim = q3 + 1.5*iqr\n",
    "    lower_lim = q1 - 1.5*iqr\n",
    "    up_outliers = df_store.store_number[df_store.week1_total_sales > upper_lim].values.tolist()\n",
    "    low_outliers = df_store.store_number[df_store.week1_total_sales < lower_lim].values.tolist()\n",
    "    total_outliers = up_outliers + low_outliers\n",
    "    data_dict_store[i]=(up_outliers,low_outliers)"
   ]
  },
  {
   "cell_type": "code",
   "execution_count": 266,
   "metadata": {},
   "outputs": [
    {
     "data": {
      "text/plain": [
       "dict_keys(['week1_total_sales', 'week2_total_sales', 'week3_total_sales', 'week4_total_sales', 'week5_total_sales', 'store_overall_sales'])"
      ]
     },
     "execution_count": 266,
     "metadata": {},
     "output_type": "execute_result"
    }
   ],
   "source": [
    "data_dict_store.keys()"
   ]
  },
  {
   "cell_type": "code",
   "execution_count": 268,
   "metadata": {},
   "outputs": [
    {
     "data": {
      "text/plain": [
       "(['0308155', '0308747'], [])"
      ]
     },
     "execution_count": 268,
     "metadata": {},
     "output_type": "execute_result"
    }
   ],
   "source": [
    "data_dict_store[\"store_overall_sales\"] # From here you can obtain outliers for any column !!!"
   ]
  },
  {
   "cell_type": "code",
   "execution_count": null,
   "metadata": {},
   "outputs": [],
   "source": []
  }
 ],
 "metadata": {
  "kernelspec": {
   "display_name": "Python 3",
   "language": "python",
   "name": "python3"
  },
  "language_info": {
   "codemirror_mode": {
    "name": "ipython",
    "version": 3
   },
   "file_extension": ".py",
   "mimetype": "text/x-python",
   "name": "python",
   "nbconvert_exporter": "python",
   "pygments_lexer": "ipython3",
   "version": "3.6.4"
  }
 },
 "nbformat": 4,
 "nbformat_minor": 2
}
