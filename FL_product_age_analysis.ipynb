{
 "cells": [
  {
   "cell_type": "code",
   "execution_count": 2,
   "metadata": {},
   "outputs": [],
   "source": [
    "import csv\n",
    "import pandas as pd\n",
    "import numpy as np\n",
    "\n",
    "import matplotlib as plt\n",
    "import seaborn as sns"
   ]
  },
  {
   "cell_type": "code",
   "execution_count": 3,
   "metadata": {},
   "outputs": [
    {
     "data": {
      "text/plain": [
       "'store_txn_detail2017.csv'"
      ]
     },
     "execution_count": 3,
     "metadata": {},
     "output_type": "execute_result"
    }
   ],
   "source": [
    "import os\n",
    "os.getcwd()\n",
    "os.listdir(os.curdir)[1]"
   ]
  },
  {
   "cell_type": "code",
   "execution_count": 4,
   "metadata": {},
   "outputs": [],
   "source": [
    "data = pd.read_csv('store_txn_detail2017.csv', nrows = 10000000)"
   ]
  },
  {
   "cell_type": "code",
   "execution_count": 45,
   "metadata": {},
   "outputs": [
    {
     "data": {
      "text/plain": [
       "11088"
      ]
     },
     "execution_count": 45,
     "metadata": {},
     "output_type": "execute_result"
    }
   ],
   "source": [
    "data.sku.nunique()"
   ]
  },
  {
   "cell_type": "code",
   "execution_count": 6,
   "metadata": {},
   "outputs": [],
   "source": [
    "data['business_date'] = pd.to_datetime(data['business_date'], format = '%Y-%m-%d')"
   ]
  },
  {
   "cell_type": "code",
   "execution_count": 7,
   "metadata": {},
   "outputs": [],
   "source": [
    "data['previous_txn_date'] = pd.to_datetime(data['previous_txn_date'], format = '%Y-%m-%d',errors = 'coerce')"
   ]
  },
  {
   "cell_type": "code",
   "execution_count": 8,
   "metadata": {},
   "outputs": [
    {
     "name": "stdout",
     "output_type": "stream",
     "text": [
      "<class 'pandas.core.frame.DataFrame'>\n",
      "RangeIndex: 10000000 entries, 0 to 9999999\n",
      "Data columns (total 6 columns):\n",
      "#                    int64\n",
      "sku                  int64\n",
      "store_number         int64\n",
      "business_date        datetime64[ns]\n",
      "sales_units          int64\n",
      "previous_txn_date    datetime64[ns]\n",
      "dtypes: datetime64[ns](2), int64(4)\n",
      "memory usage: 457.8 MB\n"
     ]
    }
   ],
   "source": [
    "data.info()"
   ]
  },
  {
   "cell_type": "code",
   "execution_count": 48,
   "metadata": {},
   "outputs": [
    {
     "data": {
      "text/html": [
       "<div>\n",
       "<style scoped>\n",
       "    .dataframe tbody tr th:only-of-type {\n",
       "        vertical-align: middle;\n",
       "    }\n",
       "\n",
       "    .dataframe tbody tr th {\n",
       "        vertical-align: top;\n",
       "    }\n",
       "\n",
       "    .dataframe thead th {\n",
       "        text-align: right;\n",
       "    }\n",
       "</style>\n",
       "<table border=\"1\" class=\"dataframe\">\n",
       "  <thead>\n",
       "    <tr style=\"text-align: right;\">\n",
       "      <th></th>\n",
       "      <th>sku</th>\n",
       "      <th>first_txn</th>\n",
       "      <th>last_txn</th>\n",
       "      <th>total_units_sold</th>\n",
       "      <th>txn_dates</th>\n",
       "      <th>txn_units</th>\n",
       "      <th>duration</th>\n",
       "    </tr>\n",
       "  </thead>\n",
       "  <tbody>\n",
       "    <tr>\n",
       "      <th>0</th>\n",
       "      <td>3053632004</td>\n",
       "      <td>2017-08-19</td>\n",
       "      <td>2017-10-01</td>\n",
       "      <td>7</td>\n",
       "      <td>[2017-09-27 00:00:00, 2017-08-25 00:00:00, 201...</td>\n",
       "      <td>[1, 1, 1, 1, 1, 1, 1]</td>\n",
       "      <td>43</td>\n",
       "    </tr>\n",
       "    <tr>\n",
       "      <th>1</th>\n",
       "      <td>3101761600</td>\n",
       "      <td>2017-08-20</td>\n",
       "      <td>2017-08-20</td>\n",
       "      <td>1</td>\n",
       "      <td>[2017-08-20 00:00:00]</td>\n",
       "      <td>[1]</td>\n",
       "      <td>0</td>\n",
       "    </tr>\n",
       "    <tr>\n",
       "      <th>2</th>\n",
       "      <td>3102464000</td>\n",
       "      <td>2017-08-12</td>\n",
       "      <td>2017-08-12</td>\n",
       "      <td>1</td>\n",
       "      <td>[2017-08-12 00:00:00]</td>\n",
       "      <td>[1]</td>\n",
       "      <td>0</td>\n",
       "    </tr>\n",
       "    <tr>\n",
       "      <th>3</th>\n",
       "      <td>3102553300</td>\n",
       "      <td>2017-08-18</td>\n",
       "      <td>2017-08-18</td>\n",
       "      <td>1</td>\n",
       "      <td>[2017-08-18 00:00:00]</td>\n",
       "      <td>[1]</td>\n",
       "      <td>0</td>\n",
       "    </tr>\n",
       "    <tr>\n",
       "      <th>4</th>\n",
       "      <td>3121720600</td>\n",
       "      <td>2017-07-15</td>\n",
       "      <td>2017-07-15</td>\n",
       "      <td>1</td>\n",
       "      <td>[2017-07-15 00:00:00]</td>\n",
       "      <td>[1]</td>\n",
       "      <td>0</td>\n",
       "    </tr>\n",
       "    <tr>\n",
       "      <th>5</th>\n",
       "      <td>3122503800</td>\n",
       "      <td>2017-07-31</td>\n",
       "      <td>2017-07-31</td>\n",
       "      <td>1</td>\n",
       "      <td>[2017-07-31 00:00:00]</td>\n",
       "      <td>[1]</td>\n",
       "      <td>0</td>\n",
       "    </tr>\n",
       "    <tr>\n",
       "      <th>6</th>\n",
       "      <td>3122555200</td>\n",
       "      <td>2017-08-12</td>\n",
       "      <td>2017-08-12</td>\n",
       "      <td>1</td>\n",
       "      <td>[2017-08-12 00:00:00]</td>\n",
       "      <td>[1]</td>\n",
       "      <td>0</td>\n",
       "    </tr>\n",
       "    <tr>\n",
       "      <th>7</th>\n",
       "      <td>3122556100</td>\n",
       "      <td>2017-08-16</td>\n",
       "      <td>2017-08-16</td>\n",
       "      <td>1</td>\n",
       "      <td>[2017-08-16 00:00:00]</td>\n",
       "      <td>[1]</td>\n",
       "      <td>0</td>\n",
       "    </tr>\n",
       "    <tr>\n",
       "      <th>8</th>\n",
       "      <td>3124558300</td>\n",
       "      <td>2017-08-21</td>\n",
       "      <td>2017-09-01</td>\n",
       "      <td>2</td>\n",
       "      <td>[2017-08-21 00:00:00, 2017-09-01 00:00:00]</td>\n",
       "      <td>[1, 1]</td>\n",
       "      <td>11</td>\n",
       "    </tr>\n",
       "    <tr>\n",
       "      <th>9</th>\n",
       "      <td>3170003400</td>\n",
       "      <td>2017-02-09</td>\n",
       "      <td>2017-04-10</td>\n",
       "      <td>3</td>\n",
       "      <td>[2017-02-09 00:00:00, 2017-02-15 00:00:00, 201...</td>\n",
       "      <td>[1, 1, 1]</td>\n",
       "      <td>60</td>\n",
       "    </tr>\n",
       "  </tbody>\n",
       "</table>\n",
       "</div>"
      ],
      "text/plain": [
       "          sku  first_txn   last_txn  total_units_sold  \\\n",
       "0  3053632004 2017-08-19 2017-10-01                 7   \n",
       "1  3101761600 2017-08-20 2017-08-20                 1   \n",
       "2  3102464000 2017-08-12 2017-08-12                 1   \n",
       "3  3102553300 2017-08-18 2017-08-18                 1   \n",
       "4  3121720600 2017-07-15 2017-07-15                 1   \n",
       "5  3122503800 2017-07-31 2017-07-31                 1   \n",
       "6  3122555200 2017-08-12 2017-08-12                 1   \n",
       "7  3122556100 2017-08-16 2017-08-16                 1   \n",
       "8  3124558300 2017-08-21 2017-09-01                 2   \n",
       "9  3170003400 2017-02-09 2017-04-10                 3   \n",
       "\n",
       "                                           txn_dates              txn_units  \\\n",
       "0  [2017-09-27 00:00:00, 2017-08-25 00:00:00, 201...  [1, 1, 1, 1, 1, 1, 1]   \n",
       "1                              [2017-08-20 00:00:00]                    [1]   \n",
       "2                              [2017-08-12 00:00:00]                    [1]   \n",
       "3                              [2017-08-18 00:00:00]                    [1]   \n",
       "4                              [2017-07-15 00:00:00]                    [1]   \n",
       "5                              [2017-07-31 00:00:00]                    [1]   \n",
       "6                              [2017-08-12 00:00:00]                    [1]   \n",
       "7                              [2017-08-16 00:00:00]                    [1]   \n",
       "8         [2017-08-21 00:00:00, 2017-09-01 00:00:00]                 [1, 1]   \n",
       "9  [2017-02-09 00:00:00, 2017-02-15 00:00:00, 201...              [1, 1, 1]   \n",
       "\n",
       "   duration  \n",
       "0        43  \n",
       "1         0  \n",
       "2         0  \n",
       "3         0  \n",
       "4         0  \n",
       "5         0  \n",
       "6         0  \n",
       "7         0  \n",
       "8        11  \n",
       "9        60  "
      ]
     },
     "execution_count": 48,
     "metadata": {},
     "output_type": "execute_result"
    }
   ],
   "source": [
    "df = pd.DataFrame()\n",
    "df['first_txn'] = data.groupby(['sku'])['business_date'].min()\n",
    "df['last_txn'] = data.groupby(['sku'])['business_date'].max()\n",
    "df['total_units_sold'] = data.groupby(['sku'])['sales_units'].sum()\n",
    "df['txn_dates'] = data.groupby(['sku'])['business_date'].apply(lambda x: list(x))\n",
    "df['txn_units'] = data.groupby(['sku'])['sales_units'].apply(lambda x: list(x))\n",
    "df.reset_index(inplace= True)\n",
    "df['duration'] = (df['last_txn'] - df['first_txn']).dt.days\n",
    "\n",
    "df.head(10)"
   ]
  },
  {
   "cell_type": "code",
   "execution_count": 19,
   "metadata": {},
   "outputs": [],
   "source": [
    "import matplotlib.pyplot as plt\n",
    "import seaborn as sns"
   ]
  },
  {
   "cell_type": "code",
   "execution_count": 22,
   "metadata": {},
   "outputs": [
    {
     "data": {
      "text/plain": [
       "<matplotlib.legend.Legend at 0x7f4b3c683438>"
      ]
     },
     "execution_count": 22,
     "metadata": {},
     "output_type": "execute_result"
    },
    {
     "data": {
      "image/png": "[encoded data removed]",
      "text/plain": [
       "<matplotlib.figure.Figure at 0x7f4b3c770ef0>"
      ]
     },
     "metadata": {},
     "output_type": "display_data"
    }
   ],
   "source": [
    "fig = plt.figure(figsize = (15,8))\n",
    "plt.title('Duration of products in Days...')\n",
    "plt.hist(df.duration, bins = 100, label = 'Age of a product')\n",
    "plt.xlabel(\"Age in No. of days\")\n",
    "plt.ylabel(\"No. of products\")\n",
    "plt.legend(loc = 'upper right')"
   ]
  },
  {
   "cell_type": "code",
   "execution_count": 35,
   "metadata": {},
   "outputs": [
    {
     "data": {
      "text/plain": [
       "<matplotlib.axes._subplots.AxesSubplot at 0x7f4b3c2e5320>"
      ]
     },
     "execution_count": 35,
     "metadata": {},
     "output_type": "execute_result"
    },
    {
     "data": {
      "image/png": "[encoded data removed]",
      "text/plain": [
       "<matplotlib.figure.Figure at 0x7f4b3c3a93c8>"
      ]
     },
     "metadata": {},
     "output_type": "display_data"
    }
   ],
   "source": [
    "sns.set_color_codes()\n",
    "\n",
    "fig, ax1 = plt.subplots(1,1,figsize= (15,7))\n",
    "\n",
    "sns.distplot(df.total_units_sold, ax= ax1, color = 'orange')"
   ]
  },
  {
   "cell_type": "code",
   "execution_count": 36,
   "metadata": {},
   "outputs": [
    {
     "data": {
      "text/plain": [
       "1042"
      ]
     },
     "execution_count": 36,
     "metadata": {},
     "output_type": "execute_result"
    }
   ],
   "source": [
    "len(data.store_number.unique())"
   ]
  },
  {
   "cell_type": "code",
   "execution_count": 42,
   "metadata": {},
   "outputs": [
    {
     "name": "stderr",
     "output_type": "stream",
     "text": [
      "/home/tatras/anaconda3/lib/python3.6/site-packages/pandas/core/series.py:696: FutureWarning: \n",
      "Passing list-likes to .loc or [] with any missing label will raise\n",
      "KeyError in the future, you can use .reindex() as an alternative.\n",
      "\n",
      "See the documentation here:\n",
      "http://pandas.pydata.org/pandas-docs/stable/indexing.html#deprecate-loc-reindex-listlike\n",
      "  return self.loc[key]\n"
     ]
    },
    {
     "data": {
      "text/plain": [
       "9970773    325061\n",
       "9970774    325061\n",
       "9970775    325061\n",
       "9970776    325061\n",
       "9970777    325061\n",
       "9970778    325061\n",
       "9970779    325061\n",
       "9970780    325061\n",
       "9970781    325061\n",
       "9970782    325061\n",
       "9970783    325061\n",
       "9970784    325061\n",
       "9970785    325061\n",
       "9970786    325061\n",
       "9970787    325061\n",
       "9970788    325061\n",
       "9970789    325061\n",
       "9970790    325061\n",
       "Name: store_number, dtype: int64"
      ]
     },
     "execution_count": 42,
     "metadata": {},
     "output_type": "execute_result"
    }
   ],
   "source": [
    "data.store_number[data.sku == df.sku[df.total_units_sold].max()]"
   ]
  },
  {
   "cell_type": "code",
   "execution_count": null,
   "metadata": {},
   "outputs": [],
   "source": []
  },
  {
   "cell_type": "code",
   "execution_count": 32,
   "metadata": {},
   "outputs": [
    {
     "data": {
      "text/plain": [
       "0   2017-09-27\n",
       "1   2017-08-25\n",
       "2   2017-08-19\n",
       "3   2017-09-23\n",
       "4   2017-08-25\n",
       "5   2017-08-20\n",
       "6   2017-10-01\n",
       "Name: business_date, dtype: datetime64[ns]"
      ]
     },
     "execution_count": 32,
     "metadata": {},
     "output_type": "execute_result"
    }
   ],
   "source": [
    "data.business_date[data.sku == data.sku.unique()[0]]"
   ]
  }
 ],
 "metadata": {
  "kernelspec": {
   "display_name": "Python 3",
   "language": "python",
   "name": "python3"
  },
  "language_info": {
   "codemirror_mode": {
    "name": "ipython",
    "version": 3
   },
   "file_extension": ".py",
   "mimetype": "text/x-python",
   "name": "python",
   "nbconvert_exporter": "python",
   "pygments_lexer": "ipython3",
   "version": "3.6.4"
  }
 },
 "nbformat": 4,
 "nbformat_minor": 2
}
